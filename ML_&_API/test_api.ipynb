{
 "cells": [
  {
   "cell_type": "code",
   "execution_count": 9,
   "metadata": {},
   "outputs": [
    {
     "name": "stdout",
     "output_type": "stream",
     "text": [
      "API Response: {'prediction': 104.35747528076172} €\n",
      "API Response: {'prediction': 143.31683349609375} €\n",
      "API Response: {'prediction': 106.30663299560547} €\n"
     ]
    }
   ],
   "source": [
    "import requests\n",
    "import json\n",
    "\n",
    "url = \"https://hyraxuna-api-getaround.hf.space/predict\"\n",
    "\n",
    "\n",
    "data1 = {\n",
    "    \"model_key\": 'Citroën',\n",
    "    \"mileage\": 53000,\n",
    "    \"engine_power\": 90,\n",
    "    \"fuel\": 'petrol',\n",
    "    \"paint_color\": 'grey',\n",
    "    \"car_type\": 'coupe',\n",
    "    \"private_parking_available\": True,\n",
    "    \"has_gps\": False,\n",
    "    \"has_air_conditioning\": True,\n",
    "    \"automatic_car\": False,\n",
    "    \"has_getaround_connect\": False,\n",
    "    \"has_speed_regulator\": True,\n",
    "    \"winter_tires\": False,\n",
    "}\n",
    "\n",
    "data2 = {\n",
    "    \"model_key\": 'BMW',\n",
    "    \"mileage\": 250000,\n",
    "    \"engine_power\": 230,\n",
    "    \"fuel\": 'diesel',\n",
    "    \"paint_color\": 'blue',\n",
    "    \"car_type\": 'hatchback',\n",
    "    \"private_parking_available\": False,\n",
    "    \"has_gps\": True,\n",
    "    \"has_air_conditioning\": True,\n",
    "    \"automatic_car\": True,\n",
    "    \"has_getaround_connect\": True,\n",
    "    \"has_speed_regulator\": True,\n",
    "    \"winter_tires\": False,\n",
    "}\n",
    "\n",
    "data3 = {\n",
    "    \"model_key\": 'Nissan',\n",
    "    \"mileage\": 363000,\n",
    "    \"engine_power\": 160,\n",
    "    \"fuel\": 'diesel',\n",
    "    \"paint_color\": 'black',\n",
    "    \"car_type\": 'suv',\n",
    "    \"private_parking_available\": True,\n",
    "    \"has_gps\": True,\n",
    "    \"has_air_conditioning\": True,\n",
    "    \"automatic_car\": True,\n",
    "    \"has_getaround_connect\": False,\n",
    "    \"has_speed_regulator\": True,\n",
    "    \"winter_tires\": True,\n",
    "}\n",
    "\n",
    "datas = [data1, data2, data3]\n",
    "\n",
    "\n",
    "headers = {\"Content-Type\": \"application/json\"}\n",
    "\n",
    "for data in datas:\n",
    "  response = requests.post(url, data=json.dumps(data), headers=headers)\n",
    "\n",
    "  if response.status_code == 200:\n",
    "      print(\"API Response:\", response.json(), \"€\")\n",
    "  else:\n",
    "      print(\"API Error:\", response.status_code, response.text)"
   ]
  },
  {
   "cell_type": "markdown",
   "metadata": {},
   "source": [
    "## The **API** that **predicts** the day **price** of rentals with getaround for a car works💲❗💲❗💲❗"
   ]
  }
 ],
 "metadata": {
  "kernelspec": {
   "display_name": "data_ml_env",
   "language": "python",
   "name": "python3"
  },
  "language_info": {
   "codemirror_mode": {
    "name": "ipython",
    "version": 3
   },
   "file_extension": ".py",
   "mimetype": "text/x-python",
   "name": "python",
   "nbconvert_exporter": "python",
   "pygments_lexer": "ipython3",
   "version": "3.11.5"
  }
 },
 "nbformat": 4,
 "nbformat_minor": 2
}
